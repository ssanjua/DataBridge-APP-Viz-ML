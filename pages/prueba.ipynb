{
 "cells": [
  {
   "cell_type": "code",
   "execution_count": 57,
   "metadata": {},
   "outputs": [
    {
     "name": "stdout",
     "output_type": "stream",
     "text": [
      "Collecting scikit-learn\n",
      "  Using cached scikit_learn-1.2.2-cp311-cp311-macosx_10_9_x86_64.whl (9.0 MB)\n",
      "Requirement already satisfied: numpy>=1.17.3 in /Users/ssanjua/Desktop/HENRY 2023/DATAFT10/LABS/PF/streamlit/streamlit_venv/lib/python3.11/site-packages (from scikit-learn) (1.24.3)\n",
      "Collecting scipy>=1.3.2 (from scikit-learn)\n",
      "  Using cached scipy-1.10.1-cp311-cp311-macosx_10_9_x86_64.whl (35.0 MB)\n",
      "Collecting joblib>=1.1.1 (from scikit-learn)\n",
      "  Using cached joblib-1.2.0-py3-none-any.whl (297 kB)\n",
      "Collecting threadpoolctl>=2.0.0 (from scikit-learn)\n",
      "  Using cached threadpoolctl-3.1.0-py3-none-any.whl (14 kB)\n",
      "Installing collected packages: threadpoolctl, scipy, joblib, scikit-learn\n",
      "Successfully installed joblib-1.2.0 scikit-learn-1.2.2 scipy-1.10.1 threadpoolctl-3.1.0\n",
      "Note: you may need to restart the kernel to use updated packages.\n"
     ]
    }
   ],
   "source": [
    "pip install scikit-learn"
   ]
  },
  {
   "cell_type": "code",
   "execution_count": 58,
   "metadata": {},
   "outputs": [],
   "source": [
    "import streamlit as st\n",
    "import pandas as pd\n",
    "import matplotlib.pyplot as plt\n",
    "from sklearn.preprocessing import StandardScaler\n",
    "from sklearn.cluster import KMeans"
   ]
  },
  {
   "cell_type": "code",
   "execution_count": 8,
   "metadata": {},
   "outputs": [
    {
     "data": {
      "text/html": [
       "<div>\n",
       "<style scoped>\n",
       "    .dataframe tbody tr th:only-of-type {\n",
       "        vertical-align: middle;\n",
       "    }\n",
       "\n",
       "    .dataframe tbody tr th {\n",
       "        vertical-align: top;\n",
       "    }\n",
       "\n",
       "    .dataframe thead th {\n",
       "        text-align: right;\n",
       "    }\n",
       "</style>\n",
       "<table border=\"1\" class=\"dataframe\">\n",
       "  <thead>\n",
       "    <tr style=\"text-align: right;\">\n",
       "      <th></th>\n",
       "      <th>user_id</th>\n",
       "      <th>time</th>\n",
       "      <th>rating</th>\n",
       "      <th>text</th>\n",
       "      <th>name</th>\n",
       "      <th>gmap_id</th>\n",
       "    </tr>\n",
       "  </thead>\n",
       "  <tbody>\n",
       "    <tr>\n",
       "      <th>0</th>\n",
       "      <td>1.117503e+20</td>\n",
       "      <td>2019-10-26</td>\n",
       "      <td>1</td>\n",
       "      <td>Over price on mufflers. A $47 muffler  $190</td>\n",
       "      <td>Guy Saunders</td>\n",
       "      <td>0x8085780e4f382d41:0x2cf8df29f6d704a2</td>\n",
       "    </tr>\n",
       "    <tr>\n",
       "      <th>1</th>\n",
       "      <td>1.143015e+20</td>\n",
       "      <td>2017-07-05</td>\n",
       "      <td>1</td>\n",
       "      <td>(Translated by Google) They refused to accept ...</td>\n",
       "      <td>American dream</td>\n",
       "      <td>0x80c2c7167ad51547:0x1f3717afaab4d208</td>\n",
       "    </tr>\n",
       "    <tr>\n",
       "      <th>2</th>\n",
       "      <td>1.139363e+20</td>\n",
       "      <td>2017-11-14</td>\n",
       "      <td>1</td>\n",
       "      <td>horrible</td>\n",
       "      <td>titus li</td>\n",
       "      <td>0x80dcd3e1cd073227:0xea8412e5b028fb25</td>\n",
       "    </tr>\n",
       "    <tr>\n",
       "      <th>3</th>\n",
       "      <td>1.031334e+20</td>\n",
       "      <td>2020-12-25</td>\n",
       "      <td>1</td>\n",
       "      <td>I have tried multiple times to use this cab co...</td>\n",
       "      <td>Andrew</td>\n",
       "      <td>0x80c4b3849f4348a9:0xe7b0cda67a7c8777</td>\n",
       "    </tr>\n",
       "    <tr>\n",
       "      <th>4</th>\n",
       "      <td>1.122415e+20</td>\n",
       "      <td>2018-01-08</td>\n",
       "      <td>1</td>\n",
       "      <td>The people here are stupid,the male nurse that...</td>\n",
       "      <td>Eric Maldonado</td>\n",
       "      <td>0x80dcacc17f1e10c5:0xdfe81349d3060ed3</td>\n",
       "    </tr>\n",
       "  </tbody>\n",
       "</table>\n",
       "</div>"
      ],
      "text/plain": [
       "        user_id        time  rating  \\\n",
       "0  1.117503e+20  2019-10-26       1   \n",
       "1  1.143015e+20  2017-07-05       1   \n",
       "2  1.139363e+20  2017-11-14       1   \n",
       "3  1.031334e+20  2020-12-25       1   \n",
       "4  1.122415e+20  2018-01-08       1   \n",
       "\n",
       "                                                text            name  \\\n",
       "0        Over price on mufflers. A $47 muffler  $190    Guy Saunders   \n",
       "1  (Translated by Google) They refused to accept ...  American dream   \n",
       "2                                           horrible        titus li   \n",
       "3  I have tried multiple times to use this cab co...          Andrew   \n",
       "4  The people here are stupid,the male nurse that...  Eric Maldonado   \n",
       "\n",
       "                                 gmap_id  \n",
       "0  0x8085780e4f382d41:0x2cf8df29f6d704a2  \n",
       "1  0x80c2c7167ad51547:0x1f3717afaab4d208  \n",
       "2  0x80dcd3e1cd073227:0xea8412e5b028fb25  \n",
       "3  0x80c4b3849f4348a9:0xe7b0cda67a7c8777  \n",
       "4  0x80dcacc17f1e10c5:0xdfe81349d3060ed3  "
      ]
     },
     "execution_count": 8,
     "metadata": {},
     "output_type": "execute_result"
    }
   ],
   "source": [
    "\n",
    "df = pd.read_csv('/Users/ssanjua/Desktop/HENRY 2023/DATAFT10/LABS/PF/streamlit/data/df_actualizado_gmap_revie.csv')\n",
    "df.dropna(inplace=True)\n",
    "\n",
    "df.head()"
   ]
  },
  {
   "cell_type": "code",
   "execution_count": 5,
   "metadata": {},
   "outputs": [
    {
     "name": "stdout",
     "output_type": "stream",
     "text": [
      "<class 'pandas.core.frame.DataFrame'>\n",
      "Index: 999958 entries, 0 to 999999\n",
      "Data columns (total 6 columns):\n",
      " #   Column   Non-Null Count   Dtype  \n",
      "---  ------   --------------   -----  \n",
      " 0   user_id  999958 non-null  float64\n",
      " 1   time     999958 non-null  object \n",
      " 2   rating   999958 non-null  int64  \n",
      " 3   text     999958 non-null  object \n",
      " 4   name     999958 non-null  object \n",
      " 5   gmap_id  999958 non-null  object \n",
      "dtypes: float64(1), int64(1), object(4)\n",
      "memory usage: 53.4+ MB\n"
     ]
    }
   ],
   "source": [
    "df.info()"
   ]
  },
  {
   "cell_type": "code",
   "execution_count": 10,
   "metadata": {},
   "outputs": [],
   "source": [
    "# Convierte la columna 'time' al tipo de datos datetime\n",
    "df['time'] = pd.to_datetime(df['time'])"
   ]
  },
  {
   "cell_type": "code",
   "execution_count": 11,
   "metadata": {},
   "outputs": [],
   "source": [
    "# Extrae el año de la columna 'time' y crea una nueva columna 'year'\n",
    "df['year'] = df['time'].dt.year"
   ]
  },
  {
   "cell_type": "code",
   "execution_count": 12,
   "metadata": {},
   "outputs": [
    {
     "data": {
      "text/html": [
       "<div>\n",
       "<style scoped>\n",
       "    .dataframe tbody tr th:only-of-type {\n",
       "        vertical-align: middle;\n",
       "    }\n",
       "\n",
       "    .dataframe tbody tr th {\n",
       "        vertical-align: top;\n",
       "    }\n",
       "\n",
       "    .dataframe thead th {\n",
       "        text-align: right;\n",
       "    }\n",
       "</style>\n",
       "<table border=\"1\" class=\"dataframe\">\n",
       "  <thead>\n",
       "    <tr style=\"text-align: right;\">\n",
       "      <th></th>\n",
       "      <th>user_id</th>\n",
       "      <th>time</th>\n",
       "      <th>rating</th>\n",
       "      <th>text</th>\n",
       "      <th>name</th>\n",
       "      <th>gmap_id</th>\n",
       "      <th>year</th>\n",
       "    </tr>\n",
       "  </thead>\n",
       "  <tbody>\n",
       "    <tr>\n",
       "      <th>0</th>\n",
       "      <td>1.117503e+20</td>\n",
       "      <td>2019-10-26</td>\n",
       "      <td>1</td>\n",
       "      <td>Over price on mufflers. A $47 muffler  $190</td>\n",
       "      <td>Guy Saunders</td>\n",
       "      <td>0x8085780e4f382d41:0x2cf8df29f6d704a2</td>\n",
       "      <td>2019</td>\n",
       "    </tr>\n",
       "    <tr>\n",
       "      <th>1</th>\n",
       "      <td>1.143015e+20</td>\n",
       "      <td>2017-07-05</td>\n",
       "      <td>1</td>\n",
       "      <td>(Translated by Google) They refused to accept ...</td>\n",
       "      <td>American dream</td>\n",
       "      <td>0x80c2c7167ad51547:0x1f3717afaab4d208</td>\n",
       "      <td>2017</td>\n",
       "    </tr>\n",
       "    <tr>\n",
       "      <th>2</th>\n",
       "      <td>1.139363e+20</td>\n",
       "      <td>2017-11-14</td>\n",
       "      <td>1</td>\n",
       "      <td>horrible</td>\n",
       "      <td>titus li</td>\n",
       "      <td>0x80dcd3e1cd073227:0xea8412e5b028fb25</td>\n",
       "      <td>2017</td>\n",
       "    </tr>\n",
       "    <tr>\n",
       "      <th>3</th>\n",
       "      <td>1.031334e+20</td>\n",
       "      <td>2020-12-25</td>\n",
       "      <td>1</td>\n",
       "      <td>I have tried multiple times to use this cab co...</td>\n",
       "      <td>Andrew</td>\n",
       "      <td>0x80c4b3849f4348a9:0xe7b0cda67a7c8777</td>\n",
       "      <td>2020</td>\n",
       "    </tr>\n",
       "    <tr>\n",
       "      <th>4</th>\n",
       "      <td>1.122415e+20</td>\n",
       "      <td>2018-01-08</td>\n",
       "      <td>1</td>\n",
       "      <td>The people here are stupid,the male nurse that...</td>\n",
       "      <td>Eric Maldonado</td>\n",
       "      <td>0x80dcacc17f1e10c5:0xdfe81349d3060ed3</td>\n",
       "      <td>2018</td>\n",
       "    </tr>\n",
       "  </tbody>\n",
       "</table>\n",
       "</div>"
      ],
      "text/plain": [
       "        user_id       time  rating  \\\n",
       "0  1.117503e+20 2019-10-26       1   \n",
       "1  1.143015e+20 2017-07-05       1   \n",
       "2  1.139363e+20 2017-11-14       1   \n",
       "3  1.031334e+20 2020-12-25       1   \n",
       "4  1.122415e+20 2018-01-08       1   \n",
       "\n",
       "                                                text            name  \\\n",
       "0        Over price on mufflers. A $47 muffler  $190    Guy Saunders   \n",
       "1  (Translated by Google) They refused to accept ...  American dream   \n",
       "2                                           horrible        titus li   \n",
       "3  I have tried multiple times to use this cab co...          Andrew   \n",
       "4  The people here are stupid,the male nurse that...  Eric Maldonado   \n",
       "\n",
       "                                 gmap_id  year  \n",
       "0  0x8085780e4f382d41:0x2cf8df29f6d704a2  2019  \n",
       "1  0x80c2c7167ad51547:0x1f3717afaab4d208  2017  \n",
       "2  0x80dcd3e1cd073227:0xea8412e5b028fb25  2017  \n",
       "3  0x80c4b3849f4348a9:0xe7b0cda67a7c8777  2020  \n",
       "4  0x80dcacc17f1e10c5:0xdfe81349d3060ed3  2018  "
      ]
     },
     "execution_count": 12,
     "metadata": {},
     "output_type": "execute_result"
    }
   ],
   "source": [
    "df.head()"
   ]
  },
  {
   "cell_type": "code",
   "execution_count": 13,
   "metadata": {},
   "outputs": [],
   "source": [
    "# Eliminar una columna\n",
    "df = df.drop('time', axis=1)\n",
    "df = df.drop('user_id', axis=1)\n",
    "df = df.drop('text', axis=1)\n",
    "df = df.drop('name', axis=1)\n",
    "df = df.drop('gmap_id', axis=1)"
   ]
  },
  {
   "cell_type": "code",
   "execution_count": 20,
   "metadata": {},
   "outputs": [],
   "source": [
    "df.to_csv('reviews_google_count_MAL.csv', index=False)"
   ]
  },
  {
   "cell_type": "code",
   "execution_count": 3,
   "metadata": {},
   "outputs": [],
   "source": [
    "estados = ('Alabama', 'Alaska', 'Arizona', 'Arkansas', 'California',\n",
    "       'Colorado', 'Connecticut', 'Delaware', 'District_of_Columbia',\n",
    "       'Florida', 'Georgia', 'Hawaii', 'Idaho', 'Illinois', 'Indiana',\n",
    "       'Iowa', 'Kansas', 'Kentucky', 'Louisiana', 'Maine', 'Maryland',\n",
    "       'Massachusetts', 'Michigan', 'Minnesota', 'Mississippi',\n",
    "       'Missouri', 'Montana', 'Nebraska', 'Nevada', 'New_Hampshire',\n",
    "       'New_Jersey', 'New_Mexico', 'New_York', 'North_Carolina',\n",
    "       'North_Dakota', 'Ohio', 'Oklahoma', 'Oregon', 'Pennsylvania',\n",
    "       'Rhode_Island', 'South_Carolina', 'South_Dakota', 'Tennessee',\n",
    "       'Texas', 'Utah', 'Vermont', 'Virginia', 'Washington',\n",
    "       'West_Virginia', 'Wisconsin', 'Wyoming')"
   ]
  },
  {
   "cell_type": "code",
   "execution_count": 4,
   "metadata": {},
   "outputs": [],
   "source": [
    "import json\n",
    "\n",
    "df2 = pd.read_json('/Users/ssanjua/Desktop/HENRY 2023/DATAFT10/LABS/PF/streamlit/data/beauty_bussiness_review.json', lines=True)"
   ]
  },
  {
   "cell_type": "code",
   "execution_count": 5,
   "metadata": {},
   "outputs": [
    {
     "data": {
      "text/html": [
       "<div>\n",
       "<style scoped>\n",
       "    .dataframe tbody tr th:only-of-type {\n",
       "        vertical-align: middle;\n",
       "    }\n",
       "\n",
       "    .dataframe tbody tr th {\n",
       "        vertical-align: top;\n",
       "    }\n",
       "\n",
       "    .dataframe thead th {\n",
       "        text-align: right;\n",
       "    }\n",
       "</style>\n",
       "<table border=\"1\" class=\"dataframe\">\n",
       "  <thead>\n",
       "    <tr style=\"text-align: right;\">\n",
       "      <th></th>\n",
       "      <th>date</th>\n",
       "      <th>business_id</th>\n",
       "      <th>stars</th>\n",
       "      <th>text</th>\n",
       "    </tr>\n",
       "  </thead>\n",
       "  <tbody>\n",
       "    <tr>\n",
       "      <th>0</th>\n",
       "      <td>2017-03-12 20:12:45</td>\n",
       "      <td>0x8752616fa217e715:0xaa370dad859b2fb0</td>\n",
       "      <td>5</td>\n",
       "      <td>Very good customer service</td>\n",
       "    </tr>\n",
       "    <tr>\n",
       "      <th>1</th>\n",
       "      <td>2019-09-19 09:02:25</td>\n",
       "      <td>0x87bae8b297b40863:0x68ea4b1942b711b1</td>\n",
       "      <td>4</td>\n",
       "      <td>Thank you all i am a loyal fan.</td>\n",
       "    </tr>\n",
       "    <tr>\n",
       "      <th>2</th>\n",
       "      <td>2019-12-02 19:06:19</td>\n",
       "      <td>0x5490415d892e4a85:0x1ae023e7e6193e1d</td>\n",
       "      <td>5</td>\n",
       "      <td>NaN</td>\n",
       "    </tr>\n",
       "    <tr>\n",
       "      <th>3</th>\n",
       "      <td>2019-10-05 23:21:09</td>\n",
       "      <td>0x89b426e51b864427:0x5d295021a56b4bde</td>\n",
       "      <td>3</td>\n",
       "      <td>NaN</td>\n",
       "    </tr>\n",
       "    <tr>\n",
       "      <th>4</th>\n",
       "      <td>2019-09-25 05:26:51</td>\n",
       "      <td>0x89c25de0b1c19e2d:0xe22f9267c78b4fea</td>\n",
       "      <td>5</td>\n",
       "      <td>NaN</td>\n",
       "    </tr>\n",
       "  </tbody>\n",
       "</table>\n",
       "</div>"
      ],
      "text/plain": [
       "                 date                            business_id  stars  \\\n",
       "0 2017-03-12 20:12:45  0x8752616fa217e715:0xaa370dad859b2fb0      5   \n",
       "1 2019-09-19 09:02:25  0x87bae8b297b40863:0x68ea4b1942b711b1      4   \n",
       "2 2019-12-02 19:06:19  0x5490415d892e4a85:0x1ae023e7e6193e1d      5   \n",
       "3 2019-10-05 23:21:09  0x89b426e51b864427:0x5d295021a56b4bde      3   \n",
       "4 2019-09-25 05:26:51  0x89c25de0b1c19e2d:0xe22f9267c78b4fea      5   \n",
       "\n",
       "                              text  \n",
       "0       Very good customer service  \n",
       "1  Thank you all i am a loyal fan.  \n",
       "2                              NaN  \n",
       "3                              NaN  \n",
       "4                              NaN  "
      ]
     },
     "execution_count": 5,
     "metadata": {},
     "output_type": "execute_result"
    }
   ],
   "source": [
    "df2.head()"
   ]
  },
  {
   "cell_type": "code",
   "execution_count": 13,
   "metadata": {},
   "outputs": [],
   "source": [
    "df2.drop('business_id', axis=1, inplace=True)\n",
    "df2.drop('text', axis=1, inplace=True)"
   ]
  },
  {
   "cell_type": "code",
   "execution_count": 33,
   "metadata": {},
   "outputs": [
    {
     "data": {
      "text/html": [
       "<div>\n",
       "<style scoped>\n",
       "    .dataframe tbody tr th:only-of-type {\n",
       "        vertical-align: middle;\n",
       "    }\n",
       "\n",
       "    .dataframe tbody tr th {\n",
       "        vertical-align: top;\n",
       "    }\n",
       "\n",
       "    .dataframe thead th {\n",
       "        text-align: right;\n",
       "    }\n",
       "</style>\n",
       "<table border=\"1\" class=\"dataframe\">\n",
       "  <thead>\n",
       "    <tr style=\"text-align: right;\">\n",
       "      <th></th>\n",
       "      <th>stars</th>\n",
       "      <th>year</th>\n",
       "    </tr>\n",
       "  </thead>\n",
       "  <tbody>\n",
       "    <tr>\n",
       "      <th>1905180</th>\n",
       "      <td>1</td>\n",
       "      <td>2020</td>\n",
       "    </tr>\n",
       "    <tr>\n",
       "      <th>1905181</th>\n",
       "      <td>5</td>\n",
       "      <td>2020</td>\n",
       "    </tr>\n",
       "    <tr>\n",
       "      <th>1905182</th>\n",
       "      <td>5</td>\n",
       "      <td>2019</td>\n",
       "    </tr>\n",
       "    <tr>\n",
       "      <th>1905183</th>\n",
       "      <td>5</td>\n",
       "      <td>2019</td>\n",
       "    </tr>\n",
       "    <tr>\n",
       "      <th>1905184</th>\n",
       "      <td>5</td>\n",
       "      <td>2018</td>\n",
       "    </tr>\n",
       "    <tr>\n",
       "      <th>1905185</th>\n",
       "      <td>5</td>\n",
       "      <td>2018</td>\n",
       "    </tr>\n",
       "    <tr>\n",
       "      <th>1905186</th>\n",
       "      <td>5</td>\n",
       "      <td>2018</td>\n",
       "    </tr>\n",
       "    <tr>\n",
       "      <th>1905187</th>\n",
       "      <td>5</td>\n",
       "      <td>2018</td>\n",
       "    </tr>\n",
       "    <tr>\n",
       "      <th>1905188</th>\n",
       "      <td>5</td>\n",
       "      <td>2017</td>\n",
       "    </tr>\n",
       "    <tr>\n",
       "      <th>1905189</th>\n",
       "      <td>5</td>\n",
       "      <td>2018</td>\n",
       "    </tr>\n",
       "  </tbody>\n",
       "</table>\n",
       "</div>"
      ],
      "text/plain": [
       "         stars  year\n",
       "1905180      1  2020\n",
       "1905181      5  2020\n",
       "1905182      5  2019\n",
       "1905183      5  2019\n",
       "1905184      5  2018\n",
       "1905185      5  2018\n",
       "1905186      5  2018\n",
       "1905187      5  2018\n",
       "1905188      5  2017\n",
       "1905189      5  2018"
      ]
     },
     "execution_count": 33,
     "metadata": {},
     "output_type": "execute_result"
    }
   ],
   "source": [
    "df2.tail(10)"
   ]
  },
  {
   "cell_type": "code",
   "execution_count": 35,
   "metadata": {},
   "outputs": [
    {
     "name": "stdout",
     "output_type": "stream",
     "text": [
      "[2017 2019 2018 2020 2021 2016 2014 2009 2015 2012 2013 2011 2010 2008\n",
      " 2007]\n"
     ]
    }
   ],
   "source": [
    "# Supongamos que tienes un DataFrame llamado df y quieres ver los valores únicos de la columna \"columna_deseada\"\n",
    "valores_unicos = df2['year'].unique()\n",
    "\n",
    "# Imprimir los valores únicos\n",
    "print(valores_unicos)"
   ]
  },
  {
   "cell_type": "code",
   "execution_count": 25,
   "metadata": {},
   "outputs": [
    {
     "name": "stdout",
     "output_type": "stream",
     "text": [
      "<class 'pandas.core.frame.DataFrame'>\n",
      "RangeIndex: 1905190 entries, 0 to 1905189\n",
      "Data columns (total 3 columns):\n",
      " #   Column  Dtype         \n",
      "---  ------  -----         \n",
      " 0   date    datetime64[ns]\n",
      " 1   stars   int64         \n",
      " 2   year    int32         \n",
      "dtypes: datetime64[ns](1), int32(1), int64(1)\n",
      "memory usage: 36.3 MB\n"
     ]
    }
   ],
   "source": [
    "df2.info()"
   ]
  },
  {
   "cell_type": "code",
   "execution_count": 24,
   "metadata": {},
   "outputs": [],
   "source": [
    "# Convierte la columna 'time' al tipo de datos datetime\n",
    "df2['date'] = pd.to_datetime(df2['date'])\n",
    "# Extrae el año de la columna 'time' y crea una nueva columna 'year'\n",
    "df2['year'] = df2['date'].dt.year\n"
   ]
  },
  {
   "cell_type": "code",
   "execution_count": 27,
   "metadata": {},
   "outputs": [],
   "source": [
    "df2.drop('date', axis=1, inplace=True)"
   ]
  },
  {
   "cell_type": "code",
   "execution_count": 42,
   "metadata": {},
   "outputs": [
    {
     "name": "stdout",
     "output_type": "stream",
     "text": [
      "         stars  year\n",
      "1109374      5  2020\n",
      "431455       4  2019\n",
      "1359352      5  2018\n",
      "527651       5  2019\n",
      "190363       5  2019\n",
      "...        ...   ...\n",
      "634553       5  2020\n",
      "1338153      5  2019\n",
      "1327850      5  2018\n",
      "674999       5  2019\n",
      "1557133      5  2019\n",
      "\n",
      "[190519 rows x 2 columns]\n"
     ]
    }
   ],
   "source": [
    "# Obtener el número de filas del DataFrame original\n",
    "num_rows = len(df2)\n",
    "\n",
    "# Definir el tamaño de la muestra deseada (50% del tamaño original)\n",
    "sample_size = int(num_rows * 0.1)\n",
    "\n",
    "# Realizar el muestreo aleatorio\n",
    "sampled_df = df2.sample(n=sample_size, random_state=42)\n",
    "\n",
    "# Mostrar el nuevo DataFrame reducido\n",
    "print(sampled_df)"
   ]
  },
  {
   "cell_type": "code",
   "execution_count": 46,
   "metadata": {},
   "outputs": [
    {
     "data": {
      "image/png": "[encoded data removed]",
      "text/plain": [
       "<Figure size 640x480 with 1 Axes>"
      ]
     },
     "metadata": {},
     "output_type": "display_data"
    }
   ],
   "source": [
    "plt.scatter(sampled_df['year'], sampled_df['stars'])\n",
    "plt.xlabel('Año')\n",
    "plt.ylabel('Estrellas')\n",
    "plt.title('Cantidad de Estrellas por Año')\n",
    "plt.show()"
   ]
  },
  {
   "cell_type": "code",
   "execution_count": 47,
   "metadata": {},
   "outputs": [],
   "source": [
    "sampled_df.to_csv('df_reviews_anio_small.csv', index=False)"
   ]
  },
  {
   "attachments": {},
   "cell_type": "markdown",
   "metadata": {},
   "source": [
    "df2.to_csv('df_reviews_anio.csv', index=False)"
   ]
  },
  {
   "cell_type": "code",
   "execution_count": 48,
   "metadata": {},
   "outputs": [
    {
     "name": "stdout",
     "output_type": "stream",
     "text": [
      "<class 'pandas.core.frame.DataFrame'>\n",
      "Index: 190519 entries, 1109374 to 1557133\n",
      "Data columns (total 2 columns):\n",
      " #   Column  Non-Null Count   Dtype\n",
      "---  ------  --------------   -----\n",
      " 0   stars   190519 non-null  int64\n",
      " 1   year    190519 non-null  int32\n",
      "dtypes: int32(1), int64(1)\n",
      "memory usage: 3.6 MB\n"
     ]
    }
   ],
   "source": [
    "sampled_df.info()"
   ]
  },
  {
   "cell_type": "code",
   "execution_count": 29,
   "metadata": {},
   "outputs": [
    {
     "data": {
      "text/html": [
       "<div>\n",
       "<style scoped>\n",
       "    .dataframe tbody tr th:only-of-type {\n",
       "        vertical-align: middle;\n",
       "    }\n",
       "\n",
       "    .dataframe tbody tr th {\n",
       "        vertical-align: top;\n",
       "    }\n",
       "\n",
       "    .dataframe thead th {\n",
       "        text-align: right;\n",
       "    }\n",
       "</style>\n",
       "<table border=\"1\" class=\"dataframe\">\n",
       "  <thead>\n",
       "    <tr style=\"text-align: right;\">\n",
       "      <th></th>\n",
       "      <th>avg_rating</th>\n",
       "      <th>id</th>\n",
       "      <th>latitude</th>\n",
       "      <th>longitude</th>\n",
       "      <th>name</th>\n",
       "      <th>num_of_reviews</th>\n",
       "      <th>state</th>\n",
       "      <th>category</th>\n",
       "    </tr>\n",
       "  </thead>\n",
       "  <tbody>\n",
       "    <tr>\n",
       "      <th>0</th>\n",
       "      <td>4.3</td>\n",
       "      <td>0x80997004b58a0293:0xde1c39a7762d6066</td>\n",
       "      <td>39.251502</td>\n",
       "      <td>-119.962687</td>\n",
       "      <td>Aloha Spa Tahoe</td>\n",
       "      <td>15</td>\n",
       "      <td>NV</td>\n",
       "      <td>Beauty salon</td>\n",
       "    </tr>\n",
       "    <tr>\n",
       "      <th>1</th>\n",
       "      <td>4.7</td>\n",
       "      <td>0x86473bffcd9488e5:0x4770d9e83a4685f9</td>\n",
       "      <td>30.320179</td>\n",
       "      <td>-95.482123</td>\n",
       "      <td>Lasting Brows Microblading and Permanent Cosme...</td>\n",
       "      <td>87</td>\n",
       "      <td>TX</td>\n",
       "      <td>Permanent make-up clinic</td>\n",
       "    </tr>\n",
       "    <tr>\n",
       "      <th>2</th>\n",
       "      <td>4.4</td>\n",
       "      <td>0x88051cad6280eaa5:0x6e4e2dd4c6abbe5e</td>\n",
       "      <td>43.089607</td>\n",
       "      <td>-88.010160</td>\n",
       "      <td>Dvine Hair &amp; Extensions</td>\n",
       "      <td>8</td>\n",
       "      <td>WI</td>\n",
       "      <td>Hair salon</td>\n",
       "    </tr>\n",
       "    <tr>\n",
       "      <th>3</th>\n",
       "      <td>4.7</td>\n",
       "      <td>0x80c32a4fbc1a2179:0xdac087192191635c</td>\n",
       "      <td>34.003513</td>\n",
       "      <td>-117.888046</td>\n",
       "      <td>ASTR NAIL &amp; BEAUTY LOUNGE</td>\n",
       "      <td>65</td>\n",
       "      <td>CA</td>\n",
       "      <td>Nail salon</td>\n",
       "    </tr>\n",
       "    <tr>\n",
       "      <th>4</th>\n",
       "      <td>4.9</td>\n",
       "      <td>0x80dbf550ad2fc3ff:0x5a2d32417401b40b</td>\n",
       "      <td>33.133664</td>\n",
       "      <td>-117.123856</td>\n",
       "      <td>Luv Threading Studio San Marcos</td>\n",
       "      <td>8</td>\n",
       "      <td>CA</td>\n",
       "      <td>Hair removal service</td>\n",
       "    </tr>\n",
       "  </tbody>\n",
       "</table>\n",
       "</div>"
      ],
      "text/plain": [
       "   avg_rating                                     id   latitude   longitude  \\\n",
       "0         4.3  0x80997004b58a0293:0xde1c39a7762d6066  39.251502 -119.962687   \n",
       "1         4.7  0x86473bffcd9488e5:0x4770d9e83a4685f9  30.320179  -95.482123   \n",
       "2         4.4  0x88051cad6280eaa5:0x6e4e2dd4c6abbe5e  43.089607  -88.010160   \n",
       "3         4.7  0x80c32a4fbc1a2179:0xdac087192191635c  34.003513 -117.888046   \n",
       "4         4.9  0x80dbf550ad2fc3ff:0x5a2d32417401b40b  33.133664 -117.123856   \n",
       "\n",
       "                                                name  num_of_reviews state  \\\n",
       "0                                    Aloha Spa Tahoe              15    NV   \n",
       "1  Lasting Brows Microblading and Permanent Cosme...              87    TX   \n",
       "2                            Dvine Hair & Extensions               8    WI   \n",
       "3                          ASTR NAIL & BEAUTY LOUNGE              65    CA   \n",
       "4                    Luv Threading Studio San Marcos               8    CA   \n",
       "\n",
       "                   category  \n",
       "0              Beauty salon  \n",
       "1  Permanent make-up clinic  \n",
       "2                Hair salon  \n",
       "3                Nail salon  \n",
       "4      Hair removal service  "
      ]
     },
     "execution_count": 29,
     "metadata": {},
     "output_type": "execute_result"
    }
   ],
   "source": [
    "df3 = pd.read_csv('/Users/ssanjua/Desktop/HENRY 2023/DATAFT10/LABS/PF/streamlit/data/beauty_beauty_business.csv')\n",
    "\n",
    "df3.head()"
   ]
  },
  {
   "cell_type": "code",
   "execution_count": 30,
   "metadata": {},
   "outputs": [],
   "source": [
    "df3.drop('id', axis=1, inplace=True)\n",
    "df3.drop('name', axis=1, inplace=True)"
   ]
  },
  {
   "cell_type": "code",
   "execution_count": 31,
   "metadata": {},
   "outputs": [],
   "source": [
    "df3.to_csv('df_bussiness_small.csv', index=False)"
   ]
  },
  {
   "cell_type": "code",
   "execution_count": 36,
   "metadata": {},
   "outputs": [
    {
     "name": "stdout",
     "output_type": "stream",
     "text": [
      "<class 'pandas.core.frame.DataFrame'>\n",
      "RangeIndex: 152041 entries, 0 to 152040\n",
      "Data columns (total 6 columns):\n",
      " #   Column          Non-Null Count   Dtype  \n",
      "---  ------          --------------   -----  \n",
      " 0   avg_rating      152041 non-null  float64\n",
      " 1   latitude        152041 non-null  float64\n",
      " 2   longitude       152041 non-null  float64\n",
      " 3   num_of_reviews  152041 non-null  int64  \n",
      " 4   state           152041 non-null  object \n",
      " 5   category        152041 non-null  object \n",
      "dtypes: float64(3), int64(1), object(2)\n",
      "memory usage: 7.0+ MB\n"
     ]
    }
   ],
   "source": [
    "df3.info()"
   ]
  },
  {
   "cell_type": "code",
   "execution_count": 59,
   "metadata": {},
   "outputs": [
    {
     "ename": "UnpicklingError",
     "evalue": "invalid load key, '\\x07'.",
     "output_type": "error",
     "traceback": [
      "\u001b[0;31m---------------------------------------------------------------------------\u001b[0m",
      "\u001b[0;31mUnpicklingError\u001b[0m                           Traceback (most recent call last)",
      "Cell \u001b[0;32mIn[59], line 5\u001b[0m\n\u001b[1;32m      2\u001b[0m ruta_pkl \u001b[39m=\u001b[39m \u001b[39m'\u001b[39m\u001b[39m/Users/ssanjua/Desktop/HENRY 2023/DATAFT10/LABS/PF/streamlit/data/kmeans_model.pkl\u001b[39m\u001b[39m'\u001b[39m\n\u001b[1;32m      4\u001b[0m \u001b[39m# Lee el archivo pkl y crea un DataFrame\u001b[39;00m\n\u001b[0;32m----> 5\u001b[0m df_4 \u001b[39m=\u001b[39m pd\u001b[39m.\u001b[39;49mread_pickle(ruta_pkl)\n",
      "File \u001b[0;32m~/Desktop/HENRY 2023/DATAFT10/LABS/PF/streamlit/streamlit_venv/lib/python3.11/site-packages/pandas/io/pickle.py:196\u001b[0m, in \u001b[0;36mread_pickle\u001b[0;34m(filepath_or_buffer, compression, storage_options)\u001b[0m\n\u001b[1;32m    193\u001b[0m     \u001b[39mwith\u001b[39;00m warnings\u001b[39m.\u001b[39mcatch_warnings(record\u001b[39m=\u001b[39m\u001b[39mTrue\u001b[39;00m):\n\u001b[1;32m    194\u001b[0m         \u001b[39m# We want to silence any warnings about, e.g. moved modules.\u001b[39;00m\n\u001b[1;32m    195\u001b[0m         warnings\u001b[39m.\u001b[39msimplefilter(\u001b[39m\"\u001b[39m\u001b[39mignore\u001b[39m\u001b[39m\"\u001b[39m, \u001b[39mWarning\u001b[39;00m)\n\u001b[0;32m--> 196\u001b[0m         \u001b[39mreturn\u001b[39;00m pickle\u001b[39m.\u001b[39;49mload(handles\u001b[39m.\u001b[39;49mhandle)\n\u001b[1;32m    197\u001b[0m \u001b[39mexcept\u001b[39;00m excs_to_catch:\n\u001b[1;32m    198\u001b[0m     \u001b[39m# e.g.\u001b[39;00m\n\u001b[1;32m    199\u001b[0m     \u001b[39m#  \"No module named 'pandas.core.sparse.series'\"\u001b[39;00m\n\u001b[1;32m    200\u001b[0m     \u001b[39m#  \"Can't get attribute '__nat_unpickle' on <module 'pandas._libs.tslib\"\u001b[39;00m\n\u001b[1;32m    201\u001b[0m     \u001b[39mreturn\u001b[39;00m pc\u001b[39m.\u001b[39mload(handles\u001b[39m.\u001b[39mhandle, encoding\u001b[39m=\u001b[39m\u001b[39mNone\u001b[39;00m)\n",
      "\u001b[0;31mUnpicklingError\u001b[0m: invalid load key, '\\x07'."
     ]
    }
   ],
   "source": [
    "# Especifica la ruta del archivo pkl\n",
    "ruta_pkl = '/Users/ssanjua/Desktop/HENRY 2023/DATAFT10/LABS/PF/streamlit/data/kmeans_model.pkl'\n",
    "\n",
    "# Lee el archivo pkl y crea un DataFrame\n",
    "df_4 = pd.read_pickle(ruta_pkl)"
   ]
  },
  {
   "cell_type": "code",
   "execution_count": 62,
   "metadata": {},
   "outputs": [],
   "source": [
    "df_sentimiento = pd.read_csv('../data/Analisis_Sentimientos.csv')"
   ]
  },
  {
   "cell_type": "code",
   "execution_count": 63,
   "metadata": {},
   "outputs": [
    {
     "name": "stdout",
     "output_type": "stream",
     "text": [
      "<class 'pandas.core.frame.DataFrame'>\n",
      "RangeIndex: 1179830 entries, 0 to 1179829\n",
      "Data columns (total 6 columns):\n",
      " #   Column       Non-Null Count    Dtype \n",
      "---  ------       --------------    ----- \n",
      " 0   name         1179830 non-null  object\n",
      " 1   state        1179830 non-null  object\n",
      " 2   category     1179830 non-null  object\n",
      " 3   text         1179813 non-null  object\n",
      " 4   year         1179830 non-null  object\n",
      " 5   Sentimiento  1179830 non-null  object\n",
      "dtypes: object(6)\n",
      "memory usage: 54.0+ MB\n"
     ]
    }
   ],
   "source": [
    "df_sentimiento.info()"
   ]
  },
  {
   "cell_type": "code",
   "execution_count": 65,
   "metadata": {},
   "outputs": [
    {
     "name": "stdout",
     "output_type": "stream",
     "text": [
      "                                                  name           state  \\\n",
      "1093703                                      Nails&Spa       Minnesota   \n",
      "12469                                 Split Ends Salon        Colorado   \n",
      "669035                                2k Nails And Spa         Florida   \n",
      "946328                                    Aby's Unisex        Illinois   \n",
      "763305                              Larkspur Salon Spa  North Carolina   \n",
      "...                                                ...             ...   \n",
      "390045   Sunrise Dental of Redmond - Kunal Narang, DDS        Nebraska   \n",
      "1178996               Top Secret Tattoos and Piercings           Texas   \n",
      "259191                                      Love Nails         Florida   \n",
      "872756                             Oscar Nails and Spa         Arizona   \n",
      "6130                          Rig & Co. Studio and Spa            Ohio   \n",
      "\n",
      "                         category  \\\n",
      "1093703                Nail salon   \n",
      "12469                  Hair salon   \n",
      "669035                 Nail salon   \n",
      "946328               Beauty salon   \n",
      "763305               Beauty salon   \n",
      "...                           ...   \n",
      "390045           Cosmetic dentist   \n",
      "1178996  Tattoo and piercing shop   \n",
      "259191                 Nail salon   \n",
      "872756                 Nail salon   \n",
      "6130                          Spa   \n",
      "\n",
      "                                                      text  \\\n",
      "1093703  They do an amazing job I come here all the tim...   \n",
      "12469                                 Madison is the sheez   \n",
      "669035   I love this place so much it's a hidden gem to...   \n",
      "946328                                        Nice service   \n",
      "763305                     Awesome place loved the service   \n",
      "...                                                    ...   \n",
      "390045   AMAZING dentist. I've been going to them over ...   \n",
      "1178996      Best/awesome place to get a tattoo in waco,tx   \n",
      "259191   I’ve been going to this nail salon on and off ...   \n",
      "872756   Great facility! Friendly staff, good pricing, ...   \n",
      "6130                       What a breath of fresh air!!!!!   \n",
      "\n",
      "                              year Sentimiento  \n",
      "1093703  2016-01-01 21:55:02+00:00    Positivo  \n",
      "12469    2016-11-13 19:38:51+00:00     Neutral  \n",
      "669035   2019-06-24 22:36:24+00:00    Positivo  \n",
      "946328   2018-11-29 23:16:11+00:00    Positivo  \n",
      "763305   2017-09-02 13:52:04+00:00    Positivo  \n",
      "...                            ...         ...  \n",
      "390045   2020-10-28 21:01:45+00:00    Positivo  \n",
      "1178996  2021-01-28 01:18:45+00:00     Neutral  \n",
      "259191   2020-08-10 15:52:47+00:00    Negativo  \n",
      "872756   2018-07-22 22:58:17+00:00    Positivo  \n",
      "6130     2017-07-22 16:14:46+00:00    Positivo  \n",
      "\n",
      "[294957 rows x 6 columns]\n"
     ]
    }
   ],
   "source": [
    "# Obtener el número de filas del DataFrame original\n",
    "num_rows = len(df_sentimiento)\n",
    "\n",
    "# Definir el tamaño de la muestra deseada (50% del tamaño original)\n",
    "sample_size = int(num_rows * 0.25)\n",
    "\n",
    "# Realizar el muestreo aleatorio\n",
    "sampled_df_sent = df_sentimiento.sample(n=sample_size, random_state=42)\n",
    "\n",
    "# Mostrar el nuevo DataFrame reducido\n",
    "print(sampled_df_sent)"
   ]
  },
  {
   "cell_type": "code",
   "execution_count": null,
   "metadata": {},
   "outputs": [],
   "source": [
    "# Convierte la columna 'time' al tipo de datos datetime\n",
    "df2['date'] = pd.to_datetime(df2['date'])\n",
    "# Extrae el año de la columna 'time' y crea una nueva columna 'year'\n",
    "df2['year'] = df2['date'].dt.year"
   ]
  },
  {
   "cell_type": "code",
   "execution_count": 77,
   "metadata": {},
   "outputs": [],
   "source": [
    "# Convierte la columna 'time' al tipo de datos datetime\n",
    "sampled_df_sent['year'] = pd.to_datetime(sampled_df_sent['year'])\n",
    "# Extrae el año de la columna 'time' y crea una nueva columna 'year'\n",
    "sampled_df_sent['year'] = sampled_df_sent['year'].dt.year"
   ]
  },
  {
   "cell_type": "code",
   "execution_count": 78,
   "metadata": {},
   "outputs": [
    {
     "data": {
      "text/html": [
       "<div>\n",
       "<style scoped>\n",
       "    .dataframe tbody tr th:only-of-type {\n",
       "        vertical-align: middle;\n",
       "    }\n",
       "\n",
       "    .dataframe tbody tr th {\n",
       "        vertical-align: top;\n",
       "    }\n",
       "\n",
       "    .dataframe thead th {\n",
       "        text-align: right;\n",
       "    }\n",
       "</style>\n",
       "<table border=\"1\" class=\"dataframe\">\n",
       "  <thead>\n",
       "    <tr style=\"text-align: right;\">\n",
       "      <th></th>\n",
       "      <th>name</th>\n",
       "      <th>state</th>\n",
       "      <th>category</th>\n",
       "      <th>text</th>\n",
       "      <th>year</th>\n",
       "      <th>Sentimiento</th>\n",
       "    </tr>\n",
       "  </thead>\n",
       "  <tbody>\n",
       "    <tr>\n",
       "      <th>1093703</th>\n",
       "      <td>Nails&amp;Spa</td>\n",
       "      <td>Minnesota</td>\n",
       "      <td>Nail salon</td>\n",
       "      <td>They do an amazing job I come here all the tim...</td>\n",
       "      <td>1970</td>\n",
       "      <td>Positivo</td>\n",
       "    </tr>\n",
       "    <tr>\n",
       "      <th>12469</th>\n",
       "      <td>Split Ends Salon</td>\n",
       "      <td>Colorado</td>\n",
       "      <td>Hair salon</td>\n",
       "      <td>Madison is the sheez</td>\n",
       "      <td>1970</td>\n",
       "      <td>Neutral</td>\n",
       "    </tr>\n",
       "    <tr>\n",
       "      <th>669035</th>\n",
       "      <td>2k Nails And Spa</td>\n",
       "      <td>Florida</td>\n",
       "      <td>Nail salon</td>\n",
       "      <td>I love this place so much it's a hidden gem to...</td>\n",
       "      <td>1970</td>\n",
       "      <td>Positivo</td>\n",
       "    </tr>\n",
       "    <tr>\n",
       "      <th>946328</th>\n",
       "      <td>Aby's Unisex</td>\n",
       "      <td>Illinois</td>\n",
       "      <td>Beauty salon</td>\n",
       "      <td>Nice service</td>\n",
       "      <td>1970</td>\n",
       "      <td>Positivo</td>\n",
       "    </tr>\n",
       "    <tr>\n",
       "      <th>763305</th>\n",
       "      <td>Larkspur Salon Spa</td>\n",
       "      <td>North Carolina</td>\n",
       "      <td>Beauty salon</td>\n",
       "      <td>Awesome place loved the service</td>\n",
       "      <td>1970</td>\n",
       "      <td>Positivo</td>\n",
       "    </tr>\n",
       "  </tbody>\n",
       "</table>\n",
       "</div>"
      ],
      "text/plain": [
       "                       name           state      category  \\\n",
       "1093703           Nails&Spa       Minnesota    Nail salon   \n",
       "12469      Split Ends Salon        Colorado    Hair salon   \n",
       "669035     2k Nails And Spa         Florida    Nail salon   \n",
       "946328         Aby's Unisex        Illinois  Beauty salon   \n",
       "763305   Larkspur Salon Spa  North Carolina  Beauty salon   \n",
       "\n",
       "                                                      text  year Sentimiento  \n",
       "1093703  They do an amazing job I come here all the tim...  1970    Positivo  \n",
       "12469                                 Madison is the sheez  1970     Neutral  \n",
       "669035   I love this place so much it's a hidden gem to...  1970    Positivo  \n",
       "946328                                        Nice service  1970    Positivo  \n",
       "763305                     Awesome place loved the service  1970    Positivo  "
      ]
     },
     "execution_count": 78,
     "metadata": {},
     "output_type": "execute_result"
    }
   ],
   "source": [
    "sampled_df_sent.head"
   ]
  },
  {
   "cell_type": "code",
   "execution_count": 76,
   "metadata": {},
   "outputs": [
    {
     "name": "stdout",
     "output_type": "stream",
     "text": [
      "<class 'pandas.core.frame.DataFrame'>\n",
      "Index: 294957 entries, 1093703 to 6130\n",
      "Data columns (total 6 columns):\n",
      " #   Column       Non-Null Count   Dtype \n",
      "---  ------       --------------   ----- \n",
      " 0   name         294957 non-null  object\n",
      " 1   state        294957 non-null  object\n",
      " 2   category     294957 non-null  object\n",
      " 3   text         294954 non-null  object\n",
      " 4   year         294957 non-null  int32 \n",
      " 5   Sentimiento  294957 non-null  object\n",
      "dtypes: int32(1), object(5)\n",
      "memory usage: 14.6+ MB\n"
     ]
    }
   ],
   "source": [
    "sampled_df_sent.info()"
   ]
  },
  {
   "cell_type": "code",
   "execution_count": 73,
   "metadata": {},
   "outputs": [],
   "source": [
    "sampled_df_sent.to_csv('df_sentimiento_small.csv')"
   ]
  },
  {
   "cell_type": "code",
   "execution_count": 69,
   "metadata": {},
   "outputs": [],
   "source": [
    "top_clusters = pd.read_csv('../data/top_clusters.csv')"
   ]
  },
  {
   "cell_type": "code",
   "execution_count": 70,
   "metadata": {},
   "outputs": [
    {
     "data": {
      "text/html": [
       "<div>\n",
       "<style scoped>\n",
       "    .dataframe tbody tr th:only-of-type {\n",
       "        vertical-align: middle;\n",
       "    }\n",
       "\n",
       "    .dataframe tbody tr th {\n",
       "        vertical-align: top;\n",
       "    }\n",
       "\n",
       "    .dataframe thead th {\n",
       "        text-align: right;\n",
       "    }\n",
       "</style>\n",
       "<table border=\"1\" class=\"dataframe\">\n",
       "  <thead>\n",
       "    <tr style=\"text-align: right;\">\n",
       "      <th></th>\n",
       "      <th>Unnamed: 0</th>\n",
       "      <th>Cluster</th>\n",
       "      <th>Centroid Latitude</th>\n",
       "      <th>Centroid Longitude</th>\n",
       "      <th>Promedio_Puntaje_Reviews</th>\n",
       "      <th>Cantidad de Negocios</th>\n",
       "      <th>Negocios Competidores</th>\n",
       "      <th>Estado</th>\n",
       "      <th>Condado</th>\n",
       "      <th>Porcentaje de competición</th>\n",
       "    </tr>\n",
       "  </thead>\n",
       "  <tbody>\n",
       "    <tr>\n",
       "      <th>0</th>\n",
       "      <td>0</td>\n",
       "      <td>41</td>\n",
       "      <td>27.471028</td>\n",
       "      <td>-81.516158</td>\n",
       "      <td>4.93</td>\n",
       "      <td>4117</td>\n",
       "      <td>2162</td>\n",
       "      <td>Florida</td>\n",
       "      <td>Highlands County</td>\n",
       "      <td>52.51</td>\n",
       "    </tr>\n",
       "    <tr>\n",
       "      <th>1</th>\n",
       "      <td>1</td>\n",
       "      <td>32</td>\n",
       "      <td>38.163285</td>\n",
       "      <td>-121.469269</td>\n",
       "      <td>4.93</td>\n",
       "      <td>2221</td>\n",
       "      <td>1155</td>\n",
       "      <td>California</td>\n",
       "      <td>San Joaquin County</td>\n",
       "      <td>52.00</td>\n",
       "    </tr>\n",
       "    <tr>\n",
       "      <th>2</th>\n",
       "      <td>2</td>\n",
       "      <td>20</td>\n",
       "      <td>40.120721</td>\n",
       "      <td>-75.586693</td>\n",
       "      <td>4.92</td>\n",
       "      <td>7461</td>\n",
       "      <td>3697</td>\n",
       "      <td>Pennsylvania</td>\n",
       "      <td>Chester County</td>\n",
       "      <td>49.55</td>\n",
       "    </tr>\n",
       "    <tr>\n",
       "      <th>3</th>\n",
       "      <td>3</td>\n",
       "      <td>48</td>\n",
       "      <td>33.801736</td>\n",
       "      <td>-115.747699</td>\n",
       "      <td>4.92</td>\n",
       "      <td>4712</td>\n",
       "      <td>2389</td>\n",
       "      <td>California</td>\n",
       "      <td>Riverside County</td>\n",
       "      <td>50.70</td>\n",
       "    </tr>\n",
       "    <tr>\n",
       "      <th>4</th>\n",
       "      <td>4</td>\n",
       "      <td>6</td>\n",
       "      <td>35.103770</td>\n",
       "      <td>-82.612992</td>\n",
       "      <td>4.92</td>\n",
       "      <td>6541</td>\n",
       "      <td>3173</td>\n",
       "      <td>South Carolina</td>\n",
       "      <td>Greenville County</td>\n",
       "      <td>48.51</td>\n",
       "    </tr>\n",
       "  </tbody>\n",
       "</table>\n",
       "</div>"
      ],
      "text/plain": [
       "   Unnamed: 0  Cluster  Centroid Latitude  Centroid Longitude  \\\n",
       "0           0       41          27.471028          -81.516158   \n",
       "1           1       32          38.163285         -121.469269   \n",
       "2           2       20          40.120721          -75.586693   \n",
       "3           3       48          33.801736         -115.747699   \n",
       "4           4        6          35.103770          -82.612992   \n",
       "\n",
       "   Promedio_Puntaje_Reviews  Cantidad de Negocios  Negocios Competidores  \\\n",
       "0                      4.93                  4117                   2162   \n",
       "1                      4.93                  2221                   1155   \n",
       "2                      4.92                  7461                   3697   \n",
       "3                      4.92                  4712                   2389   \n",
       "4                      4.92                  6541                   3173   \n",
       "\n",
       "           Estado             Condado  Porcentaje de competición  \n",
       "0         Florida    Highlands County                      52.51  \n",
       "1      California  San Joaquin County                      52.00  \n",
       "2    Pennsylvania      Chester County                      49.55  \n",
       "3      California    Riverside County                      50.70  \n",
       "4  South Carolina   Greenville County                      48.51  "
      ]
     },
     "execution_count": 70,
     "metadata": {},
     "output_type": "execute_result"
    }
   ],
   "source": [
    "top_clusters.head()"
   ]
  },
  {
   "cell_type": "code",
   "execution_count": 90,
   "metadata": {},
   "outputs": [
    {
     "ename": "LookupError",
     "evalue": "\n**********************************************************************\n  Resource \u001b[93mvader_lexicon\u001b[0m not found.\n  Please use the NLTK Downloader to obtain the resource:\n\n  \u001b[31m>>> import nltk\n  >>> nltk.download('vader_lexicon')\n  \u001b[0m\n  For more information see: https://www.nltk.org/data.html\n\n  Attempted to load \u001b[93msentiment/vader_lexicon.zip/vader_lexicon/vader_lexicon.txt\u001b[0m\n\n  Searched in:\n    - '/Users/ssanjua/nltk_data'\n    - '/Users/ssanjua/Desktop/HENRY 2023/DATAFT10/LABS/PF/streamlit/streamlit_venv/nltk_data'\n    - '/Users/ssanjua/Desktop/HENRY 2023/DATAFT10/LABS/PF/streamlit/streamlit_venv/share/nltk_data'\n    - '/Users/ssanjua/Desktop/HENRY 2023/DATAFT10/LABS/PF/streamlit/streamlit_venv/lib/nltk_data'\n    - '/usr/share/nltk_data'\n    - '/usr/local/share/nltk_data'\n    - '/usr/lib/nltk_data'\n    - '/usr/local/lib/nltk_data'\n    - ''\n**********************************************************************\n",
     "output_type": "error",
     "traceback": [
      "\u001b[0;31m---------------------------------------------------------------------------\u001b[0m",
      "\u001b[0;31mLookupError\u001b[0m                               Traceback (most recent call last)",
      "Cell \u001b[0;32mIn[90], line 18\u001b[0m\n\u001b[1;32m     14\u001b[0m             \u001b[39mreturn\u001b[39;00m \u001b[39m'\u001b[39m\u001b[39mNeutral\u001b[39m\u001b[39m'\u001b[39m\n\u001b[1;32m     17\u001b[0m \u001b[39m#mood = input('Ingresa algo')\u001b[39;00m\n\u001b[0;32m---> 18\u001b[0m get_sentiment(\u001b[39m'\u001b[39;49m\u001b[39mvery very bad\u001b[39;49m\u001b[39m'\u001b[39;49m)\n",
      "Cell \u001b[0;32mIn[90], line 5\u001b[0m, in \u001b[0;36mget_sentiment\u001b[0;34m(text)\u001b[0m\n\u001b[1;32m      4\u001b[0m \u001b[39mdef\u001b[39;00m \u001b[39mget_sentiment\u001b[39m(text):\n\u001b[0;32m----> 5\u001b[0m         analyzer \u001b[39m=\u001b[39m SentimentIntensityAnalyzer()\n\u001b[1;32m      6\u001b[0m         sentiment_scores \u001b[39m=\u001b[39m analyzer\u001b[39m.\u001b[39mpolarity_scores(text)\n\u001b[1;32m      7\u001b[0m         compound_score \u001b[39m=\u001b[39m sentiment_scores[\u001b[39m'\u001b[39m\u001b[39mcompound\u001b[39m\u001b[39m'\u001b[39m]\n",
      "File \u001b[0;32m~/Desktop/HENRY 2023/DATAFT10/LABS/PF/streamlit/streamlit_venv/lib/python3.11/site-packages/nltk/sentiment/vader.py:340\u001b[0m, in \u001b[0;36mSentimentIntensityAnalyzer.__init__\u001b[0;34m(self, lexicon_file)\u001b[0m\n\u001b[1;32m    336\u001b[0m \u001b[39mdef\u001b[39;00m \u001b[39m__init__\u001b[39m(\n\u001b[1;32m    337\u001b[0m     \u001b[39mself\u001b[39m,\n\u001b[1;32m    338\u001b[0m     lexicon_file\u001b[39m=\u001b[39m\u001b[39m\"\u001b[39m\u001b[39msentiment/vader_lexicon.zip/vader_lexicon/vader_lexicon.txt\u001b[39m\u001b[39m\"\u001b[39m,\n\u001b[1;32m    339\u001b[0m ):\n\u001b[0;32m--> 340\u001b[0m     \u001b[39mself\u001b[39m\u001b[39m.\u001b[39mlexicon_file \u001b[39m=\u001b[39m nltk\u001b[39m.\u001b[39;49mdata\u001b[39m.\u001b[39;49mload(lexicon_file)\n\u001b[1;32m    341\u001b[0m     \u001b[39mself\u001b[39m\u001b[39m.\u001b[39mlexicon \u001b[39m=\u001b[39m \u001b[39mself\u001b[39m\u001b[39m.\u001b[39mmake_lex_dict()\n\u001b[1;32m    342\u001b[0m     \u001b[39mself\u001b[39m\u001b[39m.\u001b[39mconstants \u001b[39m=\u001b[39m VaderConstants()\n",
      "File \u001b[0;32m~/Desktop/HENRY 2023/DATAFT10/LABS/PF/streamlit/streamlit_venv/lib/python3.11/site-packages/nltk/data.py:750\u001b[0m, in \u001b[0;36mload\u001b[0;34m(resource_url, format, cache, verbose, logic_parser, fstruct_reader, encoding)\u001b[0m\n\u001b[1;32m    747\u001b[0m     \u001b[39mprint\u001b[39m(\u001b[39mf\u001b[39m\u001b[39m\"\u001b[39m\u001b[39m<<Loading \u001b[39m\u001b[39m{\u001b[39;00mresource_url\u001b[39m}\u001b[39;00m\u001b[39m>>\u001b[39m\u001b[39m\"\u001b[39m)\n\u001b[1;32m    749\u001b[0m \u001b[39m# Load the resource.\u001b[39;00m\n\u001b[0;32m--> 750\u001b[0m opened_resource \u001b[39m=\u001b[39m _open(resource_url)\n\u001b[1;32m    752\u001b[0m \u001b[39mif\u001b[39;00m \u001b[39mformat\u001b[39m \u001b[39m==\u001b[39m \u001b[39m\"\u001b[39m\u001b[39mraw\u001b[39m\u001b[39m\"\u001b[39m:\n\u001b[1;32m    753\u001b[0m     resource_val \u001b[39m=\u001b[39m opened_resource\u001b[39m.\u001b[39mread()\n",
      "File \u001b[0;32m~/Desktop/HENRY 2023/DATAFT10/LABS/PF/streamlit/streamlit_venv/lib/python3.11/site-packages/nltk/data.py:876\u001b[0m, in \u001b[0;36m_open\u001b[0;34m(resource_url)\u001b[0m\n\u001b[1;32m    873\u001b[0m protocol, path_ \u001b[39m=\u001b[39m split_resource_url(resource_url)\n\u001b[1;32m    875\u001b[0m \u001b[39mif\u001b[39;00m protocol \u001b[39mis\u001b[39;00m \u001b[39mNone\u001b[39;00m \u001b[39mor\u001b[39;00m protocol\u001b[39m.\u001b[39mlower() \u001b[39m==\u001b[39m \u001b[39m\"\u001b[39m\u001b[39mnltk\u001b[39m\u001b[39m\"\u001b[39m:\n\u001b[0;32m--> 876\u001b[0m     \u001b[39mreturn\u001b[39;00m find(path_, path \u001b[39m+\u001b[39;49m [\u001b[39m\"\u001b[39;49m\u001b[39m\"\u001b[39;49m])\u001b[39m.\u001b[39mopen()\n\u001b[1;32m    877\u001b[0m \u001b[39melif\u001b[39;00m protocol\u001b[39m.\u001b[39mlower() \u001b[39m==\u001b[39m \u001b[39m\"\u001b[39m\u001b[39mfile\u001b[39m\u001b[39m\"\u001b[39m:\n\u001b[1;32m    878\u001b[0m     \u001b[39m# urllib might not use mode='rb', so handle this one ourselves:\u001b[39;00m\n\u001b[1;32m    879\u001b[0m     \u001b[39mreturn\u001b[39;00m find(path_, [\u001b[39m\"\u001b[39m\u001b[39m\"\u001b[39m])\u001b[39m.\u001b[39mopen()\n",
      "File \u001b[0;32m~/Desktop/HENRY 2023/DATAFT10/LABS/PF/streamlit/streamlit_venv/lib/python3.11/site-packages/nltk/data.py:583\u001b[0m, in \u001b[0;36mfind\u001b[0;34m(resource_name, paths)\u001b[0m\n\u001b[1;32m    581\u001b[0m sep \u001b[39m=\u001b[39m \u001b[39m\"\u001b[39m\u001b[39m*\u001b[39m\u001b[39m\"\u001b[39m \u001b[39m*\u001b[39m \u001b[39m70\u001b[39m\n\u001b[1;32m    582\u001b[0m resource_not_found \u001b[39m=\u001b[39m \u001b[39mf\u001b[39m\u001b[39m\"\u001b[39m\u001b[39m\\n\u001b[39;00m\u001b[39m{\u001b[39;00msep\u001b[39m}\u001b[39;00m\u001b[39m\\n\u001b[39;00m\u001b[39m{\u001b[39;00mmsg\u001b[39m}\u001b[39;00m\u001b[39m\\n\u001b[39;00m\u001b[39m{\u001b[39;00msep\u001b[39m}\u001b[39;00m\u001b[39m\\n\u001b[39;00m\u001b[39m\"\u001b[39m\n\u001b[0;32m--> 583\u001b[0m \u001b[39mraise\u001b[39;00m \u001b[39mLookupError\u001b[39;00m(resource_not_found)\n",
      "\u001b[0;31mLookupError\u001b[0m: \n**********************************************************************\n  Resource \u001b[93mvader_lexicon\u001b[0m not found.\n  Please use the NLTK Downloader to obtain the resource:\n\n  \u001b[31m>>> import nltk\n  >>> nltk.download('vader_lexicon')\n  \u001b[0m\n  For more information see: https://www.nltk.org/data.html\n\n  Attempted to load \u001b[93msentiment/vader_lexicon.zip/vader_lexicon/vader_lexicon.txt\u001b[0m\n\n  Searched in:\n    - '/Users/ssanjua/nltk_data'\n    - '/Users/ssanjua/Desktop/HENRY 2023/DATAFT10/LABS/PF/streamlit/streamlit_venv/nltk_data'\n    - '/Users/ssanjua/Desktop/HENRY 2023/DATAFT10/LABS/PF/streamlit/streamlit_venv/share/nltk_data'\n    - '/Users/ssanjua/Desktop/HENRY 2023/DATAFT10/LABS/PF/streamlit/streamlit_venv/lib/nltk_data'\n    - '/usr/share/nltk_data'\n    - '/usr/local/share/nltk_data'\n    - '/usr/lib/nltk_data'\n    - '/usr/local/lib/nltk_data'\n    - ''\n**********************************************************************\n"
     ]
    }
   ],
   "source": [
    "from nltk.sentiment import SentimentIntensityAnalyzer\n",
    "\n",
    "def get_sentiment(text):\n",
    "        analyzer = SentimentIntensityAnalyzer()\n",
    "        sentiment_scores = analyzer.polarity_scores(text)\n",
    "        compound_score = sentiment_scores['compound']\n",
    "        \n",
    "        if compound_score > 0:\n",
    "            return 'Positivo'\n",
    "        elif compound_score < 0:\n",
    "            return 'Negativo'\n",
    "        else:\n",
    "            return 'Neutral'\n",
    "\n",
    "#mood = input('Ingresa algo')\n",
    "get_sentiment('very very bad')"
   ]
  },
  {
   "cell_type": "code",
   "execution_count": 91,
   "metadata": {},
   "outputs": [
    {
     "name": "stderr",
     "output_type": "stream",
     "text": [
      "[nltk_data] Error loading vader_lexicon: <urlopen error [SSL:\n",
      "[nltk_data]     CERTIFICATE_VERIFY_FAILED] certificate verify failed:\n",
      "[nltk_data]     unable to get local issuer certificate (_ssl.c:992)>\n"
     ]
    },
    {
     "data": {
      "text/plain": [
       "False"
      ]
     },
     "execution_count": 91,
     "metadata": {},
     "output_type": "execute_result"
    }
   ],
   "source": [
    "nltk.download('vader_lexicon')"
   ]
  },
  {
   "cell_type": "code",
   "execution_count": null,
   "metadata": {},
   "outputs": [],
   "source": []
  }
 ],
 "metadata": {
  "kernelspec": {
   "display_name": "streamlit_venv",
   "language": "python",
   "name": "python3"
  },
  "language_info": {
   "codemirror_mode": {
    "name": "ipython",
    "version": 3
   },
   "file_extension": ".py",
   "mimetype": "text/x-python",
   "name": "python",
   "nbconvert_exporter": "python",
   "pygments_lexer": "ipython3",
   "version": "3.11.1"
  },
  "orig_nbformat": 4
 },
 "nbformat": 4,
 "nbformat_minor": 2
}
